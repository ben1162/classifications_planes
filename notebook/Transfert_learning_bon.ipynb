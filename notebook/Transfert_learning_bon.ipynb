{
  "nbformat": 4,
  "nbformat_minor": 0,
  "metadata": {
    "colab": {
      "name": "Transfert_learning_bon.ipynb",
      "provenance": [],
      "collapsed_sections": [],
      "machine_shape": "hm",
      "include_colab_link": true
    },
    "kernelspec": {
      "name": "python3",
      "display_name": "Python 3"
    },
    "language_info": {
      "name": "python"
    },
    "accelerator": "TPU"
  },
  "cells": [
    {
      "cell_type": "markdown",
      "metadata": {
        "id": "view-in-github",
        "colab_type": "text"
      },
      "source": [
        "<a href=\"https://colab.research.google.com/github/ben1162/classifications_planes/blob/main/notebook/Transfert_learning_bon.ipynb\" target=\"_parent\"><img src=\"https://colab.research.google.com/assets/colab-badge.svg\" alt=\"Open In Colab\"/></a>"
      ]
    },
    {
      "cell_type": "markdown",
      "source": [
        "# Download data"
      ],
      "metadata": {
        "id": "95v47EIaFYjo"
      }
    },
    {
      "cell_type": "code",
      "execution_count": null,
      "metadata": {
        "colab": {
          "base_uri": "https://localhost:8080/"
        },
        "id": "o9lp3J0DYuEc",
        "outputId": "ec2cb590-745d-41ac-b0aa-01828ef862a5"
      },
      "outputs": [
        {
          "output_type": "stream",
          "name": "stdout",
          "text": [
            "  % Total    % Received % Xferd  Average Speed   Time    Time     Time  Current\n",
            "                                 Dload  Upload   Total   Spent    Left  Speed\n",
            "100 2625M  100 2625M    0     0  29.4M      0  0:01:29  0:01:29 --:--:-- 29.9M\n"
          ]
        }
      ],
      "source": [
        "# curl: download data and save to file\n",
        "! curl -O https://www.robots.ox.ac.uk/~vgg/data/fgvc-aircraft/archives/fgvc-aircraft-2013b.tar.gz\n",
        "! tar xzf fgvc-aircraft-2013b.tar.gz\n",
        "!mv fgvc-aircraft-2013b dataset"
      ]
    },
    {
      "cell_type": "markdown",
      "source": [
        "# Import Libraries"
      ],
      "metadata": {
        "id": "nnvrQkuZqWCh"
      }
    },
    {
      "cell_type": "code",
      "source": [
        "import pathlib\n",
        "\n",
        "import cv2\n",
        "import datetime\n",
        "import keras\n",
        "import numpy as np\n",
        "import matplotlib.pyplot as plt\n",
        "import PIL.Image as Image\n",
        "import pandas as pd\n",
        "import seaborn as sns\n",
        "import tensorflow as tf\n",
        "import tensorflow_hub as hub\n",
        "\n",
        "\n",
        "from tensorflow.keras import layers\n",
        "from tensorflow.keras.models import Sequential\n",
        "\n"
      ],
      "metadata": {
        "id": "OvXWEsokbX7j"
      },
      "execution_count": null,
      "outputs": []
    },
    {
      "cell_type": "code",
      "source": [
        "# verify version keras\n",
        "keras.__version__"
      ],
      "metadata": {
        "colab": {
          "base_uri": "https://localhost:8080/",
          "height": 35
        },
        "id": "ZtFTkBS7bbkj",
        "outputId": "5e77f6fb-89b8-45b0-84dd-1c3d1cada0ce"
      },
      "execution_count": null,
      "outputs": [
        {
          "output_type": "execute_result",
          "data": {
            "text/plain": [
              "'2.8.0'"
            ],
            "application/vnd.google.colaboratory.intrinsic+json": {
              "type": "string"
            }
          },
          "metadata": {},
          "execution_count": 7
        }
      ]
    },
    {
      "cell_type": "markdown",
      "source": [
        "# Constante\n"
      ],
      "metadata": {
        "id": "XEvwELl5N70C"
      }
    },
    {
      "cell_type": "code",
      "source": [
        "from google.colab import drive\n",
        "drive.mount('/content/drive')"
      ],
      "metadata": {
        "colab": {
          "base_uri": "https://localhost:8080/"
        },
        "id": "2E0Rubh3_0OI",
        "outputId": "64a6d469-a9b5-42da-ce54-633a712b8f6f"
      },
      "execution_count": null,
      "outputs": [
        {
          "output_type": "stream",
          "name": "stdout",
          "text": [
            "Mounted at /content/drive\n"
          ]
        }
      ]
    },
    {
      "cell_type": "code",
      "source": [
        "import yaml\n",
        "#import yaml\n",
        "\n",
        "yaml_file = open(\"/content/drive/MyDrive/model/learn.yaml\", 'r')\n",
        "yaml_content = yaml.load(yaml_file)\n",
        "\n",
        "print(\"Key: Value\")\n",
        "for key, value in yaml_content.items():\n",
        "   print(f\"{key}: {value}\")\n"
      ],
      "metadata": {
        "colab": {
          "base_uri": "https://localhost:8080/"
        },
        "id": "L8XOu8mdReZu",
        "outputId": "34efec42-61f4-4106-8bc0-46e8872a5ff2"
      },
      "execution_count": null,
      "outputs": [
        {
          "output_type": "stream",
          "name": "stdout",
          "text": [
            "Key: Value\n",
            "IMAGE_WIDTH: 128\n",
            "IMAGE_HEIGHT: IMAGE_WIDTH\n",
            "IMAGE_DEPTH: 3\n",
            "DATA_DIR_TRAIN_MANUFACTURER: /content/dataset/data/images_manufacturer_train.txt\n",
            "DATA_DIR_TRAIN_FAMILY: /content/dataset/data/images_family_train.txt\n",
            "DATA_DIR_TRAIN_VARIANT: /content/dataset/data/images_variant_train.txt\n",
            "DATA_DIR_TEST_MANUFACTURER: /content/dataset/data/images_manufacturer_test.txt\n",
            "DATA_DIR_TEST_FAMILY: /content/dataset/data/images_family_test.txt\n",
            "DATA_DIR_TEST_VARIANT: /content/dataset/data/images_variant_test.txt\n",
            "TARGET_NAME: manufacturer\n",
            "TARGET_NAME2: family\n",
            "TARGET_NAME3: variant\n"
          ]
        }
      ]
    },
    {
      "cell_type": "code",
      "source": [
        "\n",
        "DATA_DIR = yaml_content['DATA_DIR_TRAIN_FAMILY']\n",
        "TARGET_NAME = yaml_content['TARGET_NAME']\n",
        "TARGET_NAME2 = yaml_content['TARGET_NAME2']\n",
        "TARGET_NAME3 = yaml_content['TARGET_NAME3']\n",
        "DATA_DIR_TRAIN_MANUFACTURER = yaml_content['DATA_DIR_TRAIN_MANUFACTURER']\n",
        "DATA_DIR_TRAIN_FAMILY = yaml_content['DATA_DIR_TRAIN_FAMILY']\n",
        "DATA_DIR_TRAIN_VARIANT = yaml_content['DATA_DIR_TRAIN_VARIANT']\n",
        "DATA_DIR_TEST_MANUFACTURER = yaml_content['DATA_DIR_TEST_MANUFACTURER']\n",
        "DATA_DIR_TEST_FAMILY = yaml_content['DATA_DIR_TEST_FAMILY']\n",
        "DATA_DIR_TEST_VARIANT = yaml_content['DATA_DIR_TEST_VARIANT']"
      ],
      "metadata": {
        "id": "8tXDicYiH7ZZ"
      },
      "execution_count": null,
      "outputs": []
    },
    {
      "cell_type": "markdown",
      "source": [
        "#NB: Choose your target (manufacturer or family)\n",
        "\n",
        "In order to use the same code to make the detection for the category \"manufacturer\" and \"family\", we overwrite the data with the code below."
      ],
      "metadata": {
        "id": "Ggs5L5ubkSuY"
      }
    },
    {
      "cell_type": "code",
      "source": [
        "# allow to do for the manfacturer without restarting the constants part\n",
        "TARGET_NAME2= TARGET_NAME\n",
        "DATA_DIR_TRAIN_FAMILY=DATA_DIR_TRAIN_MANUFACTURER\n",
        "DATA_DIR_TEST_FAMILY=DATA_DIR_TEST_MANUFACTURER"
      ],
      "metadata": {
        "id": "QBMKrFd_DGXC"
      },
      "execution_count": null,
      "outputs": []
    },
    {
      "cell_type": "code",
      "source": [
        "IMAGE_SHAPE = (224, 224)\n",
        "IMAGE_WIDTH = 224\n",
        "IMAGE_HEIGHT = IMAGE_WIDTH\n",
        "IMAGE_DEPTH = 3"
      ],
      "metadata": {
        "id": "FIyn7wGGAxal"
      },
      "execution_count": null,
      "outputs": []
    },
    {
      "cell_type": "markdown",
      "source": [
        "# Function buil_image_database()"
      ],
      "metadata": {
        "id": "z3n8a7AeFwgA"
      }
    },
    {
      "cell_type": "code",
      "source": [
        "# allow to build our image database\n",
        "def build_image_database(path, target):\n",
        "    \"\"\"Build a pandas dataframe with target class and access path to images.\n",
        "   \n",
        "    Parameters\n",
        "    - - - - - -\n",
        "    path (Path): path patern to read csv file containing images information.\n",
        "    target (str): name of the target column.\n",
        "   \n",
        "    Returns\n",
        "    - - - - -\n",
        "    A pandas dataframe, including target class and path to image.\n",
        "    \"\"\"\n",
        "   \n",
        "   \n",
        "    _df = pd.read_csv(path, sep='\\t',\n",
        "            names=['all'],\n",
        "            dtype={'all': str} # ids are not int but string\n",
        "            )\n",
        "\n",
        "    # la fonction split() découpe sur une chaîne de charatères\n",
        "    _df['image_id'] = _df['all'].apply(lambda x: x.split(' ')[0])\n",
        "\n",
        "    # la fonction '<car>'.join(liste) concatène les éléments de liste en utilisant le séparateur <car>\n",
        "    _df[target] = _df['all'].apply(lambda x: ' '.join(x.split(' ')[1:]))\n",
        "\n",
        "    # la colonne path contient le chemin d'accès à l'image\n",
        "    _df['path'] = _df['image_id'].apply(lambda x:  pathlib.Path('dataset/data/images') / (x + '.jpg'))\n",
        "\n",
        "    return _df.drop(columns=['all'])"
      ],
      "metadata": {
        "id": "59Ca_cLdMesa"
      },
      "execution_count": null,
      "outputs": []
    },
    {
      "cell_type": "markdown",
      "source": [
        "## Verify of the function build_image_database()"
      ],
      "metadata": {
        "id": "EDxRYQkTF-Qd"
      }
    },
    {
      "cell_type": "code",
      "source": [
        "# apply build_image_database()\n",
        "build_image_database(DATA_DIR_TRAIN_FAMILY, TARGET_NAME2).head(2)"
      ],
      "metadata": {
        "id": "eVe6kzTBCxno",
        "colab": {
          "base_uri": "https://localhost:8080/",
          "height": 112
        },
        "outputId": "0aa1b071-55e3-4f6f-dc4d-d5e9dcdfc0e1"
      },
      "execution_count": null,
      "outputs": [
        {
          "output_type": "execute_result",
          "data": {
            "text/plain": [
              "  image_id manufacturer                             path\n",
              "0  1025794       Boeing  dataset/data/images/1025794.jpg\n",
              "1  1340192       Boeing  dataset/data/images/1340192.jpg"
            ],
            "text/html": [
              "\n",
              "  <div id=\"df-e15f02cd-54c1-430a-9c30-b5bbdb43a15d\">\n",
              "    <div class=\"colab-df-container\">\n",
              "      <div>\n",
              "<style scoped>\n",
              "    .dataframe tbody tr th:only-of-type {\n",
              "        vertical-align: middle;\n",
              "    }\n",
              "\n",
              "    .dataframe tbody tr th {\n",
              "        vertical-align: top;\n",
              "    }\n",
              "\n",
              "    .dataframe thead th {\n",
              "        text-align: right;\n",
              "    }\n",
              "</style>\n",
              "<table border=\"1\" class=\"dataframe\">\n",
              "  <thead>\n",
              "    <tr style=\"text-align: right;\">\n",
              "      <th></th>\n",
              "      <th>image_id</th>\n",
              "      <th>manufacturer</th>\n",
              "      <th>path</th>\n",
              "    </tr>\n",
              "  </thead>\n",
              "  <tbody>\n",
              "    <tr>\n",
              "      <th>0</th>\n",
              "      <td>1025794</td>\n",
              "      <td>Boeing</td>\n",
              "      <td>dataset/data/images/1025794.jpg</td>\n",
              "    </tr>\n",
              "    <tr>\n",
              "      <th>1</th>\n",
              "      <td>1340192</td>\n",
              "      <td>Boeing</td>\n",
              "      <td>dataset/data/images/1340192.jpg</td>\n",
              "    </tr>\n",
              "  </tbody>\n",
              "</table>\n",
              "</div>\n",
              "      <button class=\"colab-df-convert\" onclick=\"convertToInteractive('df-e15f02cd-54c1-430a-9c30-b5bbdb43a15d')\"\n",
              "              title=\"Convert this dataframe to an interactive table.\"\n",
              "              style=\"display:none;\">\n",
              "        \n",
              "  <svg xmlns=\"http://www.w3.org/2000/svg\" height=\"24px\"viewBox=\"0 0 24 24\"\n",
              "       width=\"24px\">\n",
              "    <path d=\"M0 0h24v24H0V0z\" fill=\"none\"/>\n",
              "    <path d=\"M18.56 5.44l.94 2.06.94-2.06 2.06-.94-2.06-.94-.94-2.06-.94 2.06-2.06.94zm-11 1L8.5 8.5l.94-2.06 2.06-.94-2.06-.94L8.5 2.5l-.94 2.06-2.06.94zm10 10l.94 2.06.94-2.06 2.06-.94-2.06-.94-.94-2.06-.94 2.06-2.06.94z\"/><path d=\"M17.41 7.96l-1.37-1.37c-.4-.4-.92-.59-1.43-.59-.52 0-1.04.2-1.43.59L10.3 9.45l-7.72 7.72c-.78.78-.78 2.05 0 2.83L4 21.41c.39.39.9.59 1.41.59.51 0 1.02-.2 1.41-.59l7.78-7.78 2.81-2.81c.8-.78.8-2.07 0-2.86zM5.41 20L4 18.59l7.72-7.72 1.47 1.35L5.41 20z\"/>\n",
              "  </svg>\n",
              "      </button>\n",
              "      \n",
              "  <style>\n",
              "    .colab-df-container {\n",
              "      display:flex;\n",
              "      flex-wrap:wrap;\n",
              "      gap: 12px;\n",
              "    }\n",
              "\n",
              "    .colab-df-convert {\n",
              "      background-color: #E8F0FE;\n",
              "      border: none;\n",
              "      border-radius: 50%;\n",
              "      cursor: pointer;\n",
              "      display: none;\n",
              "      fill: #1967D2;\n",
              "      height: 32px;\n",
              "      padding: 0 0 0 0;\n",
              "      width: 32px;\n",
              "    }\n",
              "\n",
              "    .colab-df-convert:hover {\n",
              "      background-color: #E2EBFA;\n",
              "      box-shadow: 0px 1px 2px rgba(60, 64, 67, 0.3), 0px 1px 3px 1px rgba(60, 64, 67, 0.15);\n",
              "      fill: #174EA6;\n",
              "    }\n",
              "\n",
              "    [theme=dark] .colab-df-convert {\n",
              "      background-color: #3B4455;\n",
              "      fill: #D2E3FC;\n",
              "    }\n",
              "\n",
              "    [theme=dark] .colab-df-convert:hover {\n",
              "      background-color: #434B5C;\n",
              "      box-shadow: 0px 1px 3px 1px rgba(0, 0, 0, 0.15);\n",
              "      filter: drop-shadow(0px 1px 2px rgba(0, 0, 0, 0.3));\n",
              "      fill: #FFFFFF;\n",
              "    }\n",
              "  </style>\n",
              "\n",
              "      <script>\n",
              "        const buttonEl =\n",
              "          document.querySelector('#df-e15f02cd-54c1-430a-9c30-b5bbdb43a15d button.colab-df-convert');\n",
              "        buttonEl.style.display =\n",
              "          google.colab.kernel.accessAllowed ? 'block' : 'none';\n",
              "\n",
              "        async function convertToInteractive(key) {\n",
              "          const element = document.querySelector('#df-e15f02cd-54c1-430a-9c30-b5bbdb43a15d');\n",
              "          const dataTable =\n",
              "            await google.colab.kernel.invokeFunction('convertToInteractive',\n",
              "                                                     [key], {});\n",
              "          if (!dataTable) return;\n",
              "\n",
              "          const docLinkHtml = 'Like what you see? Visit the ' +\n",
              "            '<a target=\"_blank\" href=https://colab.research.google.com/notebooks/data_table.ipynb>data table notebook</a>'\n",
              "            + ' to learn more about interactive tables.';\n",
              "          element.innerHTML = '';\n",
              "          dataTable['output_type'] = 'display_data';\n",
              "          await google.colab.output.renderOutput(dataTable, element);\n",
              "          const docLink = document.createElement('div');\n",
              "          docLink.innerHTML = docLinkHtml;\n",
              "          element.appendChild(docLink);\n",
              "        }\n",
              "      </script>\n",
              "    </div>\n",
              "  </div>\n",
              "  "
            ]
          },
          "metadata": {},
          "execution_count": 14
        }
      ]
    },
    {
      "cell_type": "code",
      "source": [
        "# apply build_image_database()\n",
        "build_image_database(DATA_DIR_TRAIN_VARIANT, TARGET_NAME3).head(2)"
      ],
      "metadata": {
        "colab": {
          "base_uri": "https://localhost:8080/",
          "height": 112
        },
        "id": "WhAbs0kzIGWA",
        "outputId": "2dff8560-efc2-4f56-a485-229b6bbd3ec5"
      },
      "execution_count": null,
      "outputs": [
        {
          "output_type": "execute_result",
          "data": {
            "text/plain": [
              "  image_id  variant                             path\n",
              "0  1025794  707-320  dataset/data/images/1025794.jpg\n",
              "1  1340192  707-320  dataset/data/images/1340192.jpg"
            ],
            "text/html": [
              "\n",
              "  <div id=\"df-80e89af3-f867-406f-ad8c-ea4be1a1278b\">\n",
              "    <div class=\"colab-df-container\">\n",
              "      <div>\n",
              "<style scoped>\n",
              "    .dataframe tbody tr th:only-of-type {\n",
              "        vertical-align: middle;\n",
              "    }\n",
              "\n",
              "    .dataframe tbody tr th {\n",
              "        vertical-align: top;\n",
              "    }\n",
              "\n",
              "    .dataframe thead th {\n",
              "        text-align: right;\n",
              "    }\n",
              "</style>\n",
              "<table border=\"1\" class=\"dataframe\">\n",
              "  <thead>\n",
              "    <tr style=\"text-align: right;\">\n",
              "      <th></th>\n",
              "      <th>image_id</th>\n",
              "      <th>variant</th>\n",
              "      <th>path</th>\n",
              "    </tr>\n",
              "  </thead>\n",
              "  <tbody>\n",
              "    <tr>\n",
              "      <th>0</th>\n",
              "      <td>1025794</td>\n",
              "      <td>707-320</td>\n",
              "      <td>dataset/data/images/1025794.jpg</td>\n",
              "    </tr>\n",
              "    <tr>\n",
              "      <th>1</th>\n",
              "      <td>1340192</td>\n",
              "      <td>707-320</td>\n",
              "      <td>dataset/data/images/1340192.jpg</td>\n",
              "    </tr>\n",
              "  </tbody>\n",
              "</table>\n",
              "</div>\n",
              "      <button class=\"colab-df-convert\" onclick=\"convertToInteractive('df-80e89af3-f867-406f-ad8c-ea4be1a1278b')\"\n",
              "              title=\"Convert this dataframe to an interactive table.\"\n",
              "              style=\"display:none;\">\n",
              "        \n",
              "  <svg xmlns=\"http://www.w3.org/2000/svg\" height=\"24px\"viewBox=\"0 0 24 24\"\n",
              "       width=\"24px\">\n",
              "    <path d=\"M0 0h24v24H0V0z\" fill=\"none\"/>\n",
              "    <path d=\"M18.56 5.44l.94 2.06.94-2.06 2.06-.94-2.06-.94-.94-2.06-.94 2.06-2.06.94zm-11 1L8.5 8.5l.94-2.06 2.06-.94-2.06-.94L8.5 2.5l-.94 2.06-2.06.94zm10 10l.94 2.06.94-2.06 2.06-.94-2.06-.94-.94-2.06-.94 2.06-2.06.94z\"/><path d=\"M17.41 7.96l-1.37-1.37c-.4-.4-.92-.59-1.43-.59-.52 0-1.04.2-1.43.59L10.3 9.45l-7.72 7.72c-.78.78-.78 2.05 0 2.83L4 21.41c.39.39.9.59 1.41.59.51 0 1.02-.2 1.41-.59l7.78-7.78 2.81-2.81c.8-.78.8-2.07 0-2.86zM5.41 20L4 18.59l7.72-7.72 1.47 1.35L5.41 20z\"/>\n",
              "  </svg>\n",
              "      </button>\n",
              "      \n",
              "  <style>\n",
              "    .colab-df-container {\n",
              "      display:flex;\n",
              "      flex-wrap:wrap;\n",
              "      gap: 12px;\n",
              "    }\n",
              "\n",
              "    .colab-df-convert {\n",
              "      background-color: #E8F0FE;\n",
              "      border: none;\n",
              "      border-radius: 50%;\n",
              "      cursor: pointer;\n",
              "      display: none;\n",
              "      fill: #1967D2;\n",
              "      height: 32px;\n",
              "      padding: 0 0 0 0;\n",
              "      width: 32px;\n",
              "    }\n",
              "\n",
              "    .colab-df-convert:hover {\n",
              "      background-color: #E2EBFA;\n",
              "      box-shadow: 0px 1px 2px rgba(60, 64, 67, 0.3), 0px 1px 3px 1px rgba(60, 64, 67, 0.15);\n",
              "      fill: #174EA6;\n",
              "    }\n",
              "\n",
              "    [theme=dark] .colab-df-convert {\n",
              "      background-color: #3B4455;\n",
              "      fill: #D2E3FC;\n",
              "    }\n",
              "\n",
              "    [theme=dark] .colab-df-convert:hover {\n",
              "      background-color: #434B5C;\n",
              "      box-shadow: 0px 1px 3px 1px rgba(0, 0, 0, 0.15);\n",
              "      filter: drop-shadow(0px 1px 2px rgba(0, 0, 0, 0.3));\n",
              "      fill: #FFFFFF;\n",
              "    }\n",
              "  </style>\n",
              "\n",
              "      <script>\n",
              "        const buttonEl =\n",
              "          document.querySelector('#df-80e89af3-f867-406f-ad8c-ea4be1a1278b button.colab-df-convert');\n",
              "        buttonEl.style.display =\n",
              "          google.colab.kernel.accessAllowed ? 'block' : 'none';\n",
              "\n",
              "        async function convertToInteractive(key) {\n",
              "          const element = document.querySelector('#df-80e89af3-f867-406f-ad8c-ea4be1a1278b');\n",
              "          const dataTable =\n",
              "            await google.colab.kernel.invokeFunction('convertToInteractive',\n",
              "                                                     [key], {});\n",
              "          if (!dataTable) return;\n",
              "\n",
              "          const docLinkHtml = 'Like what you see? Visit the ' +\n",
              "            '<a target=\"_blank\" href=https://colab.research.google.com/notebooks/data_table.ipynb>data table notebook</a>'\n",
              "            + ' to learn more about interactive tables.';\n",
              "          element.innerHTML = '';\n",
              "          dataTable['output_type'] = 'display_data';\n",
              "          await google.colab.output.renderOutput(dataTable, element);\n",
              "          const docLink = document.createElement('div');\n",
              "          docLink.innerHTML = docLinkHtml;\n",
              "          element.appendChild(docLink);\n",
              "        }\n",
              "      </script>\n",
              "    </div>\n",
              "  </div>\n",
              "  "
            ]
          },
          "metadata": {},
          "execution_count": 15
        }
      ]
    },
    {
      "cell_type": "code",
      "source": [
        "# apply build_image_database() in order to create the dataframe manufacturer_df\n",
        "manufacturer_df = build_image_database(DATA_DIR_TRAIN_MANUFACTURER,TARGET_NAME)"
      ],
      "metadata": {
        "id": "44RmtSvmIZP_"
      },
      "execution_count": null,
      "outputs": []
    },
    {
      "cell_type": "code",
      "source": [
        "# see the dataframe manufacturer_df\n",
        "manufacturer_df.head(2)"
      ],
      "metadata": {
        "colab": {
          "base_uri": "https://localhost:8080/",
          "height": 112
        },
        "id": "Kz8uHHeGK1gN",
        "outputId": "8709281c-7082-44c9-918a-95a741f63e1f"
      },
      "execution_count": null,
      "outputs": [
        {
          "output_type": "execute_result",
          "data": {
            "text/plain": [
              "  image_id manufacturer                             path\n",
              "0  1025794       Boeing  dataset/data/images/1025794.jpg\n",
              "1  1340192       Boeing  dataset/data/images/1340192.jpg"
            ],
            "text/html": [
              "\n",
              "  <div id=\"df-b05220c7-bd09-45ad-aa55-b444dd7dd6c7\">\n",
              "    <div class=\"colab-df-container\">\n",
              "      <div>\n",
              "<style scoped>\n",
              "    .dataframe tbody tr th:only-of-type {\n",
              "        vertical-align: middle;\n",
              "    }\n",
              "\n",
              "    .dataframe tbody tr th {\n",
              "        vertical-align: top;\n",
              "    }\n",
              "\n",
              "    .dataframe thead th {\n",
              "        text-align: right;\n",
              "    }\n",
              "</style>\n",
              "<table border=\"1\" class=\"dataframe\">\n",
              "  <thead>\n",
              "    <tr style=\"text-align: right;\">\n",
              "      <th></th>\n",
              "      <th>image_id</th>\n",
              "      <th>manufacturer</th>\n",
              "      <th>path</th>\n",
              "    </tr>\n",
              "  </thead>\n",
              "  <tbody>\n",
              "    <tr>\n",
              "      <th>0</th>\n",
              "      <td>1025794</td>\n",
              "      <td>Boeing</td>\n",
              "      <td>dataset/data/images/1025794.jpg</td>\n",
              "    </tr>\n",
              "    <tr>\n",
              "      <th>1</th>\n",
              "      <td>1340192</td>\n",
              "      <td>Boeing</td>\n",
              "      <td>dataset/data/images/1340192.jpg</td>\n",
              "    </tr>\n",
              "  </tbody>\n",
              "</table>\n",
              "</div>\n",
              "      <button class=\"colab-df-convert\" onclick=\"convertToInteractive('df-b05220c7-bd09-45ad-aa55-b444dd7dd6c7')\"\n",
              "              title=\"Convert this dataframe to an interactive table.\"\n",
              "              style=\"display:none;\">\n",
              "        \n",
              "  <svg xmlns=\"http://www.w3.org/2000/svg\" height=\"24px\"viewBox=\"0 0 24 24\"\n",
              "       width=\"24px\">\n",
              "    <path d=\"M0 0h24v24H0V0z\" fill=\"none\"/>\n",
              "    <path d=\"M18.56 5.44l.94 2.06.94-2.06 2.06-.94-2.06-.94-.94-2.06-.94 2.06-2.06.94zm-11 1L8.5 8.5l.94-2.06 2.06-.94-2.06-.94L8.5 2.5l-.94 2.06-2.06.94zm10 10l.94 2.06.94-2.06 2.06-.94-2.06-.94-.94-2.06-.94 2.06-2.06.94z\"/><path d=\"M17.41 7.96l-1.37-1.37c-.4-.4-.92-.59-1.43-.59-.52 0-1.04.2-1.43.59L10.3 9.45l-7.72 7.72c-.78.78-.78 2.05 0 2.83L4 21.41c.39.39.9.59 1.41.59.51 0 1.02-.2 1.41-.59l7.78-7.78 2.81-2.81c.8-.78.8-2.07 0-2.86zM5.41 20L4 18.59l7.72-7.72 1.47 1.35L5.41 20z\"/>\n",
              "  </svg>\n",
              "      </button>\n",
              "      \n",
              "  <style>\n",
              "    .colab-df-container {\n",
              "      display:flex;\n",
              "      flex-wrap:wrap;\n",
              "      gap: 12px;\n",
              "    }\n",
              "\n",
              "    .colab-df-convert {\n",
              "      background-color: #E8F0FE;\n",
              "      border: none;\n",
              "      border-radius: 50%;\n",
              "      cursor: pointer;\n",
              "      display: none;\n",
              "      fill: #1967D2;\n",
              "      height: 32px;\n",
              "      padding: 0 0 0 0;\n",
              "      width: 32px;\n",
              "    }\n",
              "\n",
              "    .colab-df-convert:hover {\n",
              "      background-color: #E2EBFA;\n",
              "      box-shadow: 0px 1px 2px rgba(60, 64, 67, 0.3), 0px 1px 3px 1px rgba(60, 64, 67, 0.15);\n",
              "      fill: #174EA6;\n",
              "    }\n",
              "\n",
              "    [theme=dark] .colab-df-convert {\n",
              "      background-color: #3B4455;\n",
              "      fill: #D2E3FC;\n",
              "    }\n",
              "\n",
              "    [theme=dark] .colab-df-convert:hover {\n",
              "      background-color: #434B5C;\n",
              "      box-shadow: 0px 1px 3px 1px rgba(0, 0, 0, 0.15);\n",
              "      filter: drop-shadow(0px 1px 2px rgba(0, 0, 0, 0.3));\n",
              "      fill: #FFFFFF;\n",
              "    }\n",
              "  </style>\n",
              "\n",
              "      <script>\n",
              "        const buttonEl =\n",
              "          document.querySelector('#df-b05220c7-bd09-45ad-aa55-b444dd7dd6c7 button.colab-df-convert');\n",
              "        buttonEl.style.display =\n",
              "          google.colab.kernel.accessAllowed ? 'block' : 'none';\n",
              "\n",
              "        async function convertToInteractive(key) {\n",
              "          const element = document.querySelector('#df-b05220c7-bd09-45ad-aa55-b444dd7dd6c7');\n",
              "          const dataTable =\n",
              "            await google.colab.kernel.invokeFunction('convertToInteractive',\n",
              "                                                     [key], {});\n",
              "          if (!dataTable) return;\n",
              "\n",
              "          const docLinkHtml = 'Like what you see? Visit the ' +\n",
              "            '<a target=\"_blank\" href=https://colab.research.google.com/notebooks/data_table.ipynb>data table notebook</a>'\n",
              "            + ' to learn more about interactive tables.';\n",
              "          element.innerHTML = '';\n",
              "          dataTable['output_type'] = 'display_data';\n",
              "          await google.colab.output.renderOutput(dataTable, element);\n",
              "          const docLink = document.createElement('div');\n",
              "          docLink.innerHTML = docLinkHtml;\n",
              "          element.appendChild(docLink);\n",
              "        }\n",
              "      </script>\n",
              "    </div>\n",
              "  </div>\n",
              "  "
            ]
          },
          "metadata": {},
          "execution_count": 17
        }
      ]
    },
    {
      "cell_type": "code",
      "source": [
        "# show the image in manufacturer_df\n",
        "plt.imshow(plt.imread(manufacturer_df.head(1)['path'].values[0]))"
      ],
      "metadata": {
        "colab": {
          "base_uri": "https://localhost:8080/",
          "height": 285
        },
        "id": "57hgqhFxK1aA",
        "outputId": "660f181e-6889-49cb-a351-0b70350b5c58"
      },
      "execution_count": null,
      "outputs": [
        {
          "output_type": "execute_result",
          "data": {
            "text/plain": [
              "<matplotlib.image.AxesImage at 0x7fb099a8ec90>"
            ]
          },
          "metadata": {},
          "execution_count": 18
        },
        {
          "output_type": "display_data",
          "data": {
            "text/plain": [
              "<Figure size 432x288 with 1 Axes>"
            ],
            "image/png": "[encoded data removed]"
          },
          "metadata": {
            "needs_background": "light"
          }
        }
      ]
    },
    {
      "cell_type": "markdown",
      "source": [
        "# Function Show_image()"
      ],
      "metadata": {
        "id": "sIMCGp5FGnbp"
      }
    },
    {
      "cell_type": "code",
      "source": [
        "# the function :\n",
        "# - take a df(argument)\n",
        "#-take a row(row : argument)\n",
        "#-take a column (target : argument)\n",
        "# -it displays (the value of target ) and the associated image, for the line in argument\n",
        "\n",
        "\n",
        "def show_image(df, row, target):\n",
        "  \"\"\" Show an image from an image database , with the associated class\n",
        "\n",
        "  Parameters\n",
        "  -----------\n",
        "  df(pd.DataFrame): images definition dataframe\n",
        "  row(int):row index in df of image to be displayed\n",
        "  target(str):name of target column\n",
        "\n",
        "  Returns\n",
        "  --------\n",
        "  None\n",
        "  \"\"\"\n",
        "  assert target in df.columns, \"missing target column in dataframe\"\n",
        "  assert 'path' in df.columns , \"Missing image path in dataframe\"\n",
        "  print(df.iloc[row, ][target])\n",
        "  plt.imshow(plt.imread(df.iloc[row, ]['path']))\n",
        "  return"
      ],
      "metadata": {
        "id": "AbO-nbSRK1Xm"
      },
      "execution_count": null,
      "outputs": []
    },
    {
      "cell_type": "markdown",
      "source": [
        "# Function load_resize_image()"
      ],
      "metadata": {
        "id": "67U_itomGw0v"
      }
    },
    {
      "cell_type": "code",
      "source": [
        "def load_resize_image(path,height,width):\n",
        "  \"\"\"Load an image and resize it to the target size\n",
        "    Parameters\n",
        "    --------\n",
        "    path(Path): access path to image file\n",
        "    height(int): resize image to this height\n",
        "    width(int):resize image to this width\n",
        "\n",
        "    Returns\n",
        "    ----------\n",
        "    nb.array containing resize\n",
        "\n",
        "\n",
        "\n",
        "  \"\"\"\n",
        "  \n",
        "  return np.array(Image.open(path).resize((width, height)))"
      ],
      "metadata": {
        "id": "gTtdausuoh7k"
      },
      "execution_count": null,
      "outputs": []
    },
    {
      "cell_type": "markdown",
      "source": [
        "# Function build_x_and_y()\n",
        "\n",
        "Build train & test set"
      ],
      "metadata": {
        "id": "7SSRwFkPEciw"
      }
    },
    {
      "cell_type": "code",
      "source": [
        "def build_x_and_y(df:pd.DataFrame,target:str,images:str,stratify=None):\n",
        "  \"\"\"Build x tensor and y tensor for model fitting \n",
        "\n",
        "  Parameters\n",
        "  --------------\n",
        "  df(pd.DataFrame):dataframe contanining images and target\n",
        "  target(str):name of target column\n",
        "  images(str): name of images column\n",
        "  \n",
        "  Returns\n",
        "  ---------\n",
        "  x(np.array):tensor of x values\n",
        "  y(np.array):name of y values\n",
        "  \"\"\"\n",
        "  x=np.array(df[images].to_list())\n",
        "  #y= tf.keras.utils.to_categorical(df[target].astype('category').cat.codes)\n",
        "  y = np.array(df[target].astype(\"category\").cat.codes)\n",
        "\n",
        "\n",
        "  return x, y\n"
      ],
      "metadata": {
        "id": "WNDw6_38h64w"
      },
      "execution_count": null,
      "outputs": []
    },
    {
      "cell_type": "code",
      "source": [
        "# Load train & test dataset\n",
        "\n",
        "train_df= build_image_database(DATA_DIR_TRAIN_FAMILY,TARGET_NAME2)\n",
        "test_df= build_image_database(DATA_DIR_TEST_FAMILY,TARGET_NAME2)\n",
        "\n",
        "train_df['resized_image']=train_df.apply(lambda r:load_resize_image(r['path'],IMAGE_HEIGHT,IMAGE_WIDTH),axis=1)\n",
        "\n",
        "test_df['resized_image']=test_df.apply(lambda r:load_resize_image(r['path'],IMAGE_HEIGHT,IMAGE_WIDTH),axis=1)\n",
        "#train_df\n",
        "# Build tensors for training & testing\n",
        "\n",
        "X_train,y_train =build_x_and_y(train_df,TARGET_NAME2,'resized_image')\n",
        "X_test,y_test =build_x_and_y(test_df,TARGET_NAME2,'resized_image')\n",
        "\n"
      ],
      "metadata": {
        "id": "BrzoBXw0kNbS"
      },
      "execution_count": null,
      "outputs": []
    },
    {
      "cell_type": "code",
      "source": [
        "def classify_images(images, model, classes_names=None):\n",
        "  \"\"\"Classify images through a TF model.\n",
        "  Parameters\n",
        "  ----------\n",
        "  images (np.array): set of images to classify\n",
        "  model (tf.keras.Model): TF/ Keras model\n",
        "  classes_names: dictionnary with classes names\n",
        "  Returns\n",
        "  -------\n",
        "  predicted classes\n",
        "  \"\"\"\n",
        "\n",
        "  results = model.predict(images) # predict for images\n",
        "  classes = np.argmax(results, axis=1) # np.argmax returns the index of the max value per row\n",
        "  if classes_names is not None:\n",
        "    classes = np.array(classes_names[classes])\n",
        "  return classes"
      ],
      "metadata": {
        "id": "NZRKPnK0Eod1"
      },
      "execution_count": null,
      "outputs": []
    },
    {
      "cell_type": "markdown",
      "source": [
        "Train model"
      ],
      "metadata": {
        "id": "HtsP55sPJex_"
      }
    },
    {
      "cell_type": "code",
      "source": [
        "# Flatten our train and test datasets\n",
        "\n",
        "X_train_scaled = X_train / 255\n",
        "X_test_scaled = X_test / 255"
      ],
      "metadata": {
        "id": "cEL5LaqYAnXZ"
      },
      "execution_count": null,
      "outputs": []
    },
    {
      "cell_type": "markdown",
      "source": [
        "\n",
        "# Train our model using the plane datasets\n"
      ],
      "metadata": {
        "id": "4QjzuJu-CYFo"
      }
    },
    {
      "cell_type": "code",
      "source": [
        "from tensorflow_hub.keras_layer import KerasLayer\n",
        "# PreEntrainer le model en utlisant image_net de google\n",
        "\n",
        "# On conserve les premiere couche \n",
        "feature_extractor_model = \"https://tfhub.dev/google/imagenet/mobilenet_v2_035_224/feature_vector/5\"\n",
        "\n",
        "pretrained_model_without_top_layer = hub.KerasLayer(\n",
        "    feature_extractor_model, input_shape=(IMAGE_HEIGHT,IMAGE_WIDTH,IMAGE_DEPTH), trainable=False\n",
        ")"
      ],
      "metadata": {
        "id": "-hOLxGi9AnRY"
      },
      "execution_count": null,
      "outputs": []
    },
    {
      "cell_type": "code",
      "source": [
        "# See the model: number of parameters to comput\n",
        "\n",
        "num_of_plane = train_df[TARGET_NAME2].nunique()\n",
        "\n",
        "model_tl = tf.keras.Sequential([\n",
        "  pretrained_model_without_top_layer,\n",
        "  tf.keras.layers.Dense(num_of_plane)\n",
        "])\n",
        "\n",
        "model_tl.summary()"
      ],
      "metadata": {
        "colab": {
          "base_uri": "https://localhost:8080/"
        },
        "id": "xsKXpkOTAnMM",
        "outputId": "5a6166e4-b088-48bc-e1f9-f4f740ea6036"
      },
      "execution_count": null,
      "outputs": [
        {
          "output_type": "stream",
          "name": "stdout",
          "text": [
            "Model: \"sequential\"\n",
            "_________________________________________________________________\n",
            " Layer (type)                Output Shape              Param #   \n",
            "=================================================================\n",
            " keras_layer (KerasLayer)    (None, 1280)              410208    \n",
            "                                                                 \n",
            " dense (Dense)               (None, 30)                38430     \n",
            "                                                                 \n",
            "=================================================================\n",
            "Total params: 448,638\n",
            "Trainable params: 38,430\n",
            "Non-trainable params: 410,208\n",
            "_________________________________________________________________\n"
          ]
        }
      ]
    },
    {
      "cell_type": "code",
      "source": [
        "# Train the model\n",
        "\n",
        "model_tl.compile(\n",
        "  optimizer=\"adam\",\n",
        "  loss=tf.keras.losses.SparseCategoricalCrossentropy(from_logits=True),\n",
        "  metrics=['acc'])\n",
        "\n",
        "model_tl.fit(X_train_scaled, y_train, epochs=5)"
      ],
      "metadata": {
        "id": "uKsKNbqgAnJW",
        "colab": {
          "base_uri": "https://localhost:8080/"
        },
        "outputId": "c822c4bf-ea42-40be-c271-aef77e24d3a1"
      },
      "execution_count": null,
      "outputs": [
        {
          "output_type": "stream",
          "name": "stdout",
          "text": [
            "Epoch 1/5\n",
            "105/105 [==============================] - 10s 61ms/step - loss: 2.5447 - acc: 0.2552\n",
            "Epoch 2/5\n",
            "105/105 [==============================] - 6s 61ms/step - loss: 1.8226 - acc: 0.4325\n",
            "Epoch 3/5\n",
            "105/105 [==============================] - 6s 61ms/step - loss: 1.5065 - acc: 0.5351\n",
            "Epoch 4/5\n",
            "105/105 [==============================] - 7s 62ms/step - loss: 1.3115 - acc: 0.6101\n",
            "Epoch 5/5\n",
            "105/105 [==============================] - 6s 61ms/step - loss: 1.1733 - acc: 0.6554\n"
          ]
        },
        {
          "output_type": "execute_result",
          "data": {
            "text/plain": [
              "<keras.callbacks.History at 0x7fafabd90950>"
            ]
          },
          "metadata": {},
          "execution_count": 27
        }
      ]
    },
    {
      "cell_type": "code",
      "source": [
        "# see the argmax of the predict\n",
        "\n",
        "np.argmax(model_tl.predict(X_test_scaled), axis=1)"
      ],
      "metadata": {
        "id": "54-E-WxbAnGU",
        "colab": {
          "base_uri": "https://localhost:8080/"
        },
        "outputId": "52fc418e-107a-409d-fc57-e14ba6b2256a"
      },
      "execution_count": null,
      "outputs": [
        {
          "output_type": "execute_result",
          "data": {
            "text/plain": [
              "array([ 4,  4,  4, ..., 17, 27, 29])"
            ]
          },
          "metadata": {},
          "execution_count": 28
        }
      ]
    },
    {
      "cell_type": "code",
      "source": [
        "# see the confusion matrix in the train\n",
        "\n",
        "fig, ax = plt.subplots(figsize=(12,10))\n",
        "sns.heatmap(pd.crosstab(y_train, \n",
        "                        classify_images(X_train_scaled, model_tl), \n",
        "                        normalize='index'),\n",
        "            cmap='vlag',\n",
        "            ax=ax)"
      ],
      "metadata": {
        "id": "gSpdqKhhDXgM",
        "colab": {
          "base_uri": "https://localhost:8080/",
          "height": 627
        },
        "outputId": "c09e5c94-ff56-4fb2-c505-5c48911a4cd1"
      },
      "execution_count": null,
      "outputs": [
        {
          "output_type": "execute_result",
          "data": {
            "text/plain": [
              "<matplotlib.axes._subplots.AxesSubplot at 0x7faf99ca1310>"
            ]
          },
          "metadata": {},
          "execution_count": 29
        },
        {
          "output_type": "display_data",
          "data": {
            "text/plain": [
              "<Figure size 864x720 with 2 Axes>"
            ],
            "image/png": "[encoded data removed]"
          },
          "metadata": {
            "needs_background": "light"
          }
        }
      ]
    },
    {
      "cell_type": "code",
      "source": [
        "# see the confusion matrix of the test without names\n",
        "\n",
        "import seaborn as sns\n",
        "\n",
        "fig, ax = plt.subplots(figsize=(12,10))\n",
        "sns.heatmap(pd.crosstab(y_test, \n",
        "                        classify_images(X_test_scaled, model_tl), \n",
        "                        normalize='index'),\n",
        "            cmap='vlag',\n",
        "            ax=ax)"
      ],
      "metadata": {
        "id": "Yi8iGHcfDXde",
        "colab": {
          "base_uri": "https://localhost:8080/",
          "height": 622
        },
        "outputId": "0d44c8cd-7e9c-4ee9-d009-f1ea4db35b17"
      },
      "execution_count": null,
      "outputs": [
        {
          "output_type": "execute_result",
          "data": {
            "text/plain": [
              "<matplotlib.axes._subplots.AxesSubplot at 0x7faf9a3824d0>"
            ]
          },
          "metadata": {},
          "execution_count": 30
        },
        {
          "output_type": "display_data",
          "data": {
            "text/plain": [
              "<Figure size 864x720 with 2 Axes>"
            ],
            "image/png": "[encoded data removed]"
          },
          "metadata": {
            "needs_background": "light"
          }
        }
      ]
    },
    {
      "cell_type": "code",
      "source": [
        "# Confusion matrix in the test set with names\n",
        "\n",
        "fig, ax = plt.subplots(figsize=(12, 10))\n",
        "sns.heatmap(pd.crosstab(test_df[TARGET_NAME2],\n",
        "                        classify_images(X_test_scaled, model_tl, test_df[TARGET_NAME2].astype('category').cat.categories),\n",
        "                        normalize='index'),\n",
        "            cmap='vlag',\n",
        "            ax=ax);"
      ],
      "metadata": {
        "id": "sgxilmyQDXWc",
        "colab": {
          "base_uri": "https://localhost:8080/",
          "height": 727
        },
        "outputId": "254ccc1c-32f8-4791-cc25-4decfa791198"
      },
      "execution_count": null,
      "outputs": [
        {
          "output_type": "display_data",
          "data": {
            "text/plain": [
              "<Figure size 864x720 with 2 Axes>"
            ],
            "image/png": "[encoded data removed]"
          },
          "metadata": {
            "needs_background": "light"
          }
        }
      ]
    },
    {
      "cell_type": "markdown",
      "source": [
        "Save the model"
      ],
      "metadata": {
        "id": "g5GAnG8AoZGY"
      }
    },
    {
      "cell_type": "code",
      "source": [
        "# function save_model\n",
        "import datetime\n",
        "def save_model(model, basename):\n",
        "  \"\"\"Save tf/Keras model\n",
        "\n",
        "  Model file is named model + timestamp.\n",
        "\n",
        "  Parameters\n",
        "  ----------\n",
        "  model (tf/Keras model): model to be saved\n",
        "  basename: location to save model file\n",
        "  \"\"\"\n",
        "  model.save('{}.h5'.format(basename))\n",
        "  return"
      ],
      "metadata": {
        "id": "d0CezcdzAnDV"
      },
      "execution_count": null,
      "outputs": []
    },
    {
      "cell_type": "code",
      "source": [
        "#file_dir = '/content/drive/MyDrive/image_classifier/base_dir.h5'\n",
        "#base_model.save(file_dir)"
      ],
      "metadata": {
        "id": "pOkQGcBnJbVq"
      },
      "execution_count": null,
      "outputs": []
    },
    {
      "cell_type": "code",
      "source": [
        "# apply the function save_model()\n",
        "save_model(model_tl, TARGET_NAME2)"
      ],
      "metadata": {
        "id": "xrOd5to8DGcx"
      },
      "execution_count": null,
      "outputs": []
    },
    {
      "cell_type": "code",
      "source": [
        "# Ajoute accuracy."
      ],
      "metadata": {
        "id": "dvlkLTuYDGUh"
      },
      "execution_count": null,
      "outputs": []
    },
    {
      "cell_type": "markdown",
      "source": [
        "# CONCLUSION :\n",
        "\n",
        "the accuracy here is 64,13 % on the train. It's quite similar to the one of the Neural Network model. Transfer learning improves the ranking of the planes compared to SVM and neural networks there is much more red color in the prediction than other cases. The transfer learning process was more fast than the two others models. "
      ],
      "metadata": {
        "id": "z2gvaTjfIWe3"
      }
    }
  ]
}